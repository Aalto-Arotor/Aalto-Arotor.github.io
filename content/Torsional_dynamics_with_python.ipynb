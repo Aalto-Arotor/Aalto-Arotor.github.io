{
  "nbformat": 4,
  "nbformat_minor": 0,
  "metadata": {
    "colab": {
      "provenance": []
    },
    "kernelspec": {
      "name": "python3",
      "display_name": "Python 3"
    },
    "language_info": {
      "name": "python"
    }
  },
  "cells": [
    {
      "cell_type": "markdown",
      "source": [
        "# Torsional rotordynamics with Python\n",
        "\n",
        "Copyright: Sampo Laine and Samuli Rytömaa 2023"
      ],
      "metadata": {
        "id": "S6d4jDu-Tvs6"
      }
    },
    {
      "cell_type": "code",
      "source": [
        "%%capture\n",
        "%pip install opentorsion\n",
        "import numpy as np\n",
        "import opentorsion as ot\n",
        "import matplotlib.pyplot as plt\n",
        "import matplotlib.patches as patches\n",
        "\n",
        "np.set_printoptions(precision=2)\n",
        "\n",
        "print(\"Libraries loaded\")"
      ],
      "metadata": {
        "id": "-nI1uCBxYLVr"
      },
      "execution_count": 7,
      "outputs": []
    },
    {
      "cell_type": "markdown",
      "source": [
        "## 1. Lumped element model\n",
        "\n"
      ],
      "metadata": {
        "id": "pz75YejlTts3"
      }
    },
    {
      "cell_type": "markdown",
      "source": [
        "To demonstrate the use of openTorsion, we will create a model of a simple powertrain. The powertrain consists of a compressor, a turbine and a generator, and couplings between the components. A schematic of the powertrain is illustrated below. The design rotational speed of the system is 3600 rpm. We want to calculate the torsional natural frequencies and mode shapes of the powertrain, to estimate its critical speeds. The natural frequencies of torsional vibrations are calculated using standard theory of linear dynamics.\n",
        "\n",
        "\n",
        "\n"
      ],
      "metadata": {
        "id": "j4APsKYmtX4v"
      }
    },
    {
      "cell_type": "markdown",
      "source": [
        "![image.png](data:image/png;base64,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)"
      ],
      "metadata": {
        "id": "9aLUsDuIuiLl"
      }
    },
    {
      "cell_type": "markdown",
      "source": [
        "The modeling process starts by defining the lumped element model. The model consists of 5 lumped inertia elements, and 4 connecting shafts.\n",
        "\n",
        "The rotational inertia of the compressor, turbine and generator are 100, 50 and 80 kgm$^2$, respectively. The couplings have rotational inertia of 10 kgm$^2$. The stiffness of all the shafts connecting the components to each other is 25 MNm/rad.\n",
        "\n",
        "To model the powertrain, 5 disk elements are connected to each other using a total of 4 shaft elements. When creating the model, one must be careful when defining the node numbers, to ensure that the correct elements are correctly connected. The model is illustrated below by openTorsion."
      ],
      "metadata": {
        "id": "tePhNoeo_hbm"
      }
    },
    {
      "cell_type": "markdown",
      "source": [
        "### 1.1. Create necessary elements"
      ],
      "metadata": {
        "id": "R7TGVCx9U0Uk"
      }
    },
    {
      "cell_type": "code",
      "source": [
        "'''\n",
        "The shaft elements are created below.\n",
        "To create a shaft element, call the ot.Shaft() method. As parameters, it takes\n",
        "the numbers of the two nodes it is connecting and the shaft's rotational\n",
        "stiffness (k). Alternatively to the stiffness, the dimensions of the shaft element can be\n",
        "given length (L) & outer diameter (odl), and openTorsion will calculate the element's stiffness\n",
        "based on chosen material properties.\n",
        "The method returns the created shaft element.\n",
        "'''\n",
        "\n",
        "# Below, we create the 4 shaft elements in the model\n",
        "# Syntax is: ot.Shaft(node 1, node 2, Length [mm], outer diameter [mm], stiffness [Nm/rad])\n",
        "shaft1 = ot.Shaft(0, 1, L=None, odl=None, k=25e+6)\n",
        "shaft2 = ot.Shaft(1, 2, L=None, odl=None, k=25e+6)\n",
        "shaft3 = ot.Shaft(2, 3, L=None, odl=None, k=25e+6)\n",
        "shaft4 = ot.Shaft(3, 4, L=None, odl=None, k=25e+6)\n",
        "\n",
        "'''\n",
        "To create a disk element, call the ot.Disk() method. As parameters, it takes\n",
        "the node number where the disk is placed, and the disk's rotational inertia (I).\n",
        "The method returns the created disk element.\n",
        "'''\n",
        "\n",
        "# Below, we create the 5 disk elements in the model\n",
        "# Syntax is: ot.Shaft(Node, Inerta [kgm^2])\n",
        "disk1 = ot.Disk(0, I=100) # Compressor\n",
        "disk2 = ot.Disk(1, I=10) # Coupling #1\n",
        "disk3 = ot.Disk(2, I=50) # Turbine\n",
        "disk4 = ot.Disk(3, I=10) # Coupling #2\n",
        "disk5 = ot.Disk(4, I=80) # Generator"
      ],
      "metadata": {
        "id": "-uWOHHzcUzTo"
      },
      "execution_count": 2,
      "outputs": []
    },
    {
      "cell_type": "markdown",
      "source": [
        "### 1.2. Combine elements to an assembly\n",
        "\n",
        "---\n",
        "\n"
      ],
      "metadata": {
        "id": "O1RNghpfU6BZ"
      }
    },
    {
      "cell_type": "markdown",
      "source": [
        "After creating the individual elements for the model, they are combined together into an openTorsion assembly."
      ],
      "metadata": {
        "id": "Ck63lzMTBgyG"
      }
    },
    {
      "cell_type": "code",
      "source": [
        "# To create the assembly, first the created elements are added to lists\n",
        "shafts = [shaft1, shaft2, shaft3, shaft4]\n",
        "disks = [disk1, disk2, disk3, disk4, disk5]\n",
        "\n",
        "# An OpenTorsion model is created with the ot.Assembly() method. The previously defined elements are\n",
        "# given as parameters. The method returns the assembly object.\n",
        "compressor_train = ot.Assembly(shafts, disk_elements=disks)\n",
        "\n",
        "# Create a plot_tool object for visualizations\n",
        "plot_tools = ot.Plots(compressor_train)\n",
        "\n",
        "# The assembly can be visualized using the plot_assembly method\n",
        "plot_tools.plot_assembly()"
      ],
      "metadata": {
        "id": "QhnSqjYbDm4Q"
      },
      "execution_count": null,
      "outputs": []
    },
    {
      "cell_type": "markdown",
      "source": [
        "## 1.3. Undamped natural frequencies"
      ],
      "metadata": {
        "id": "ILXzS__hU7zs"
      }
    },
    {
      "cell_type": "markdown",
      "source": [
        "The first step is to calculate the natural frequencies of the system. This is achieved using the ot.modal_analysis() method. The method returns the calculated frequencies. It should be noted that the frequencies are obtained as complex conjugate pairs, and that the first mode frequency is 0, as there are no boundary conditions constraining the rotation of the system.\n",
        "\n",
        "This model is represented by the basic Newtonian equation of motion\n",
        "\n",
        "<br>\n",
        "$$\\frac{d^2}{dt^2}Mx(t)  + Kx(t) = 0$$\n",
        "<br>\n",
        "\n",
        "Here M is the system mass matrix, K is the system stiffness matrix and x is a vector containg the degrees of freedom for the system. These M and K matrices of the torsional system are assembled by the openTorsion assembly. According to basic theory of linear vibrations, we assume that the solution is\n",
        "\n",
        "<br>\n",
        "$$x(t) = Ae^{j(\\omega t + \\phi)}$$\n",
        "<br>\n",
        "\n",
        "Where A is the amplitude of the rotational displacement and $\\omega$ is the angular frequency. The complex notation is assumed, however, the instantaneous mechanical values are the real parts of the respective complex numbers. The eigenvalues (natural frequencies) and eigenvectors (mode shapes) can be calculated from the resulting eigenvalue problem for the multiple degree-of-freedom case\n",
        "\n",
        "<br>\n",
        "$$\\omega_n^2 \\textbf{M}\\boldsymbol{\\phi} = \\textbf{K}\\boldsymbol{\\phi}$$\n",
        "<br>\n",
        "\n",
        "where $\\omega_n$ contains the natural frequency and $\\boldsymbol{\\phi}$ mode shape. openTorsion assembly object can perform the calculation of natural frequencies and eigenvectors based on the defined model. We have not defined any damping to the system, which means that the damped and undamped natural frequencies are identical."
      ],
      "metadata": {
        "id": "FxSnIiM-B_lZ"
      }
    },
    {
      "cell_type": "code",
      "source": [
        "'''\n",
        "To calculate the natural frequencies of the system, the ot.modal_analysis() method\n",
        "of the assembly is called. The method returns three lists:\n",
        "  1. the undamped natural frequencies (wn) in rad/s\n",
        "  2. the damped natural frequencies (wd) in rad/s\n",
        "  3. the damping ratios (dr)\n",
        "\n",
        "rad/s can be converted to Hz by dividing the frequency with 2*pi\n",
        "'''\n",
        "\n",
        "# Calulate the natural frequencies\n",
        "#undamped_nf, damped_nf, damping_ratios = modal_analysis(compressor_train)\n",
        "\n",
        "# As the solutions are in complex onjugate pairs, we only print every second value.\n",
        "#for wn, wd, damping_ratio in zip(undamped_nf[1::2], damped_nf[1::2], damping_ratios[1::2]):\n",
        "#  print(f'{wd/(2*np.pi):.2f} Hz, {wn/(2*np.pi):.2f} Hz, {np.abs(damping_ratio):.2f}')\n",
        "\n",
        "\n",
        "undamped_nf, damped_nf, damping_ratios = compressor_train.modal_analysis()\n",
        "\n",
        "# The natural frequencies are in complex conjugate pairs, we only print every second value.\n",
        "for wn, wd, damping_ratio in zip(undamped_nf, damped_nf, damping_ratios):\n",
        "  print(f'{wd/(2*np.pi):.2f} Hz, {wn/(2*np.pi):.2f} Hz, {np.abs(damping_ratio):.2f}')"
      ],
      "metadata": {
        "id": "XX7hfCuyU-xz"
      },
      "execution_count": null,
      "outputs": []
    },
    {
      "cell_type": "markdown",
      "source": [
        "### 1.4. Mode shapes"
      ],
      "metadata": {
        "id": "wjN4b_GmIgE_"
      }
    },
    {
      "cell_type": "markdown",
      "source": [
        "The mode shapes of the powertrain can be visualized using the Plots class. The plots object has methods for visualizing calculation results. Similarly to conventional modal analysis, the obtained displacements are only relative to each other. Therefore, no conclusion can be made about the magnitude of the vibration, as it depends on the loading. Modal analysis does not consider loading."
      ],
      "metadata": {
        "id": "TgdU5A5FB7Qx"
      }
    },
    {
      "cell_type": "code",
      "source": [
        "'''\n",
        "The ot.Plots object is initialized by giving the created Assembly as a parameter.\n",
        "The mode shapes can be plotted using the ot.figure_eigenmodes() method. The method\n",
        "takes the number of modes to plot as a parameter. Here the three lowest modes\n",
        "are plotted.\n",
        "'''\n",
        "plot_tools = ot.Plots(compressor_train)\n",
        "plot_tools.plot_eigenmodes(modes=3)"
      ],
      "metadata": {
        "id": "X-2wEQwGIilX"
      },
      "execution_count": null,
      "outputs": []
    },
    {
      "cell_type": "markdown",
      "source": [
        "### 1.5. Resonance interference diagram (Campbell)"
      ],
      "metadata": {
        "id": "aXSUWLJpFX5X"
      }
    },
    {
      "cell_type": "markdown",
      "source": [
        "A Campbell diagram is commonly used to illustrate the natural frequencies of a rotating system together with the major excitation frequencies at each rotating speed. Using the Campbell diagram, we can easily identify when the excitation frequency and detect possible resonances in the operating speed region. It is desired to have some separation margin between the operational speed and any natural frequencies. This margin is application specific and standards provide different values. Here we consider a separation margin of 10%.\n",
        "\n",
        "The important excitation components are highly application specific. We will have a closer look at these excitation frequency components in the second part of the tutorial."
      ],
      "metadata": {
        "id": "5eatqnG1eLsB"
      }
    },
    {
      "cell_type": "code",
      "source": [
        "'''\n",
        "Here we draw a Campbell diagram using the campbell_diagram method of the ot.Plots\n",
        "class. The method takes as parameters the frequency range for the plot in rpm, harmonics\n",
        "to be plotted and the number of natural frequencies to be included in the diagram\n",
        "and the operating speed of the power train in rpm.\n",
        "'''\n",
        "plot_tools.plot_campbell(frequency_range_rpm=[0, 5000], harmonics=[1, 2, 3], num_modes=3, operating_speeds_rpm=[3600])"
      ],
      "metadata": {
        "id": "c9l2HO3sFdNI"
      },
      "execution_count": null,
      "outputs": []
    },
    {
      "cell_type": "markdown",
      "source": [
        "From the figure above, we see that the 1x excitation (blue line) intersects with the first natural frequency (f$_1$) of the system at almost operational speed (dotted red line). Additionally, the second natural frequency (f$_2$) is inside the separation margin (light blue area)."
      ],
      "metadata": {
        "id": "UIK-NmAofuKv"
      }
    },
    {
      "cell_type": "markdown",
      "source": [
        "###  <b> 1.6. EXERCISE: Coupling choice </b>"
      ],
      "metadata": {
        "id": "_o59_1XdVFhO"
      }
    },
    {
      "cell_type": "markdown",
      "source": [
        "To avoid running the compressor train in a resonance condition and risk damage to the machine, modifications are suggested. The compressor, turbine and generator have already been ordered and cannot be changed. Additionally, due to lack of options from the coupling supplier, only coupling 2 can be modified. Below, we have the coupling options available at the coupling supplier.\n",
        "\n",
        "Coupling option  | Inertia (kgm$^2$) | Stiffness (MNm/rad)\n",
        "-------------------|------------------|------------------\n",
        "A | 8| 10\n",
        "B | 12| 33\n",
        "C | 15| 45\n",
        "\n",
        "Recreate the calculation model with each of the coupling options and calculate the corresponding natural frequencies. Using the Campbell diagram, choose the best coupling option to be ordered.\n"
      ],
      "metadata": {
        "id": "dQUyK1eMgiwq"
      }
    },
    {
      "cell_type": "code",
      "source": [
        "# WRITE THE ANSWER HERE"
      ],
      "metadata": {
        "id": "YXusR7PStuYE"
      },
      "execution_count": null,
      "outputs": []
    },
    {
      "cell_type": "markdown",
      "source": [
        "### Example solution below."
      ],
      "metadata": {
        "id": "ZXsz47eL6fJn"
      }
    },
    {
      "cell_type": "code",
      "source": [
        "'''\n",
        "Based on the comparison, the best coupling choice for the system is A.\n",
        "The stiffer couplings shift the first two natural frequencies up, but even with\n",
        "the stiffest option, the increase is not enough to ensure the needed margin of safety.\n",
        "However, with option A, the frequencies fall below the separation margin.\n",
        "'''\n",
        "\n",
        "# @title\n",
        "# SOLUTION\n",
        "new_coupling_inertia = 8\n",
        "new_coupling_stiffness = 10e6\n",
        "\n",
        "# Create the new disks for couling\n",
        "new_coupling_1 = ot.Disk(3, I=new_coupling_inertia)\n",
        "\n",
        "# Create new shaft elements\n",
        "new_shaft1 = ot.Shaft(2, 3, L=None, odl=None, k=new_coupling_stiffness)\n",
        "new_shaft2 = ot.Shaft(3, 4, L=None, odl=None, k=new_coupling_stiffness)\n",
        "\n",
        "# Create the new lists of elements\n",
        "shafts = [shaft1, shaft2, new_shaft1, new_shaft2]\n",
        "disks = [disk1, disk2, disk3, new_coupling_1, disk5]\n",
        "\n",
        "# Create new compressor_train assembly\n",
        "compressor_train_example = ot.Assembly(shafts, disk_elements=disks)\n",
        "\n",
        "# Plot the campbell diagram\n",
        "plot_tools = ot.Plots(compressor_train_example)\n",
        "plot_tools.plot_campbell(frequency_range_rpm=[0, 5000], harmonics=[1, 2, 3], num_modes=3, operating_speeds_rpm=[3600])"
      ],
      "metadata": {
        "id": "jdSh8UWDhNuH",
        "cellView": "form"
      },
      "execution_count": null,
      "outputs": []
    },
    {
      "cell_type": "markdown",
      "source": [
        "## 2. Calculating steady-state torsional vibration response\n",
        "In this exercise, we calculate the torsional vibration response of an internal combustion engine. The system under consideration is a 3-cylinder four-stroke engine.\n",
        "\n",
        "Most torsional systems can be represented by the basic Newtonian equation of motion\n",
        "\n",
        "<br>\n",
        "$$M\\frac{d^2}{dt^2}{x} + C\\frac{d}{dt}{x} + Kx = T.$$\n",
        "<br>\n",
        "\n",
        "In this example calculation, only the inertia and stiffness values are provided, and the damping matrix C is included as 2% modal damping in all modes, this is done directly with openTorsion software. When steady-state responses are calculated, it is assumed that the system is linear, i.e., the sinusoidal input force at any frequency results in a displacement with equal frequency but different phase and amplitude. The complex notation is assumed, however, the actual mechanical torque and displacement are the real part of the respective complex values.\n",
        "\n",
        "When the sinusoidal force and response model is assumed as\n",
        "\n",
        "<br>\n",
        "$$x(t) = Ae^{j(\\omega t + \\phi)}, \\quad T(t) = Be^{j(\\omega t + \\theta)}.$$\n",
        "<br>\n",
        "\n",
        "Substitution to the equation of motion and evaluating the derivatives yields\n",
        "\n",
        "<br>$$\n",
        "-M\\omega^2Ae^{j(\\omega t + \\phi)} + Cj\\omega Ae^{j(\\omega t + \\phi)} + KAe^{j(\\omega t + \\phi)} = Be^{j(\\omega t + \\theta)}.\n",
        "$$<br>\n",
        "\n",
        "As all the time dependent terms cancel out from this equation (remember $a^{b+c} = a^ba^c$),\n",
        "\n",
        "<br>$$\n",
        "-M\\omega^2Ae^{j\\phi} + Cj\\omega Ae^{j\\phi} + KAe^{j\\phi} = Be^{j\\theta}.\n",
        "$$<br>\n",
        "\n",
        "The steady-state displacement response (magnitude $A$ and phase $\\phi$ ) can be calculated for the known input torque (frequency $2\\pi\\omega$, magnitude $B$ and phase $\\theta$) as\n",
        "\n",
        "<br>$$\n",
        "Ae^{j\\phi} = (-M\\omega^2 + Cj\\omega + K)^{-1}Be^{j\\theta},\n",
        "$$<br>\n",
        "\n",
        "or\n",
        "\n",
        "$$x = (-M\\omega^2 + Cj\\omega + K)^{-1}T.$$\n",
        "<br>\n",
        "\n",
        "Note that in this last equation the torsional angle x and input torque T are complex numbers and no longer time-dependent, hence this is called a steady-state solution."
      ],
      "metadata": {
        "id": "CTnHwkZWVAau"
      }
    },
    {
      "cell_type": "markdown",
      "source": [
        "###<b> 2.1. EXERCISE: Create model</b>\n",
        "\n",
        "The modeling process starts by defining the lumped element model. The model consists of 5 lumped inertias, and 4 connecting shafts. Create the model with the following elements and calculate the undamped natural frequencies and plot the Campbell diagram."
      ],
      "metadata": {
        "id": "Qpuf4DCfcoyv"
      }
    },
    {
      "cell_type": "markdown",
      "source": [
        "![image.png](data:image/png;base64,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)"
      ],
      "metadata": {
        "id": "nZE2JxAodkcx"
      }
    },
    {
      "cell_type": "markdown",
      "source": [
        "Disk elements:\n",
        "\n",
        "Component  | Inertia (kgm$^2$)\n",
        "-------------------|------------------\n",
        "Cylinder 1 | 0.0035\n",
        "Cylinder 2 | 0.0035\n",
        "Cylinder 3 | 0.0035\n",
        "Flywheel | 0.15\n",
        "Generator | 0.05\n",
        "\n",
        "\n",
        "Shaft elements:\n",
        "\n",
        "Component  | Torsional stiffness (Nm/rad)\n",
        "-------------------|------------------\n",
        "Crankshaft between cylinder 1 and 2 | 12000\n",
        "Crankshaft between cylinder 2 and 3 | 12000\n",
        "Crankshaft between cylinder 3 and flywheel | 14000\n",
        "Coupling between flywheel and generator | 10000\n",
        "\n",
        "Correct undamped natural frequencies in Hz are:\n",
        "0.00,\n",
        "81.21,\n",
        "141.21,\n",
        "378.95,\n",
        "536.36\n"
      ],
      "metadata": {
        "id": "CxyP9aeEONOS"
      }
    },
    {
      "cell_type": "code",
      "source": [
        "# WRITE THE ANSWER HERE\n",
        "\n",
        "# save the assembly to a variable named crankshaft for the later parts\n",
        "crankshaft = ???\n"
      ],
      "metadata": {
        "id": "pgm73JMDtykp"
      },
      "execution_count": null,
      "outputs": []
    },
    {
      "cell_type": "markdown",
      "source": [],
      "metadata": {
        "id": "ty1i6VzPcAQH"
      }
    },
    {
      "cell_type": "markdown",
      "source": [
        "Example solution below."
      ],
      "metadata": {
        "id": "cCbi9O0j6kqg"
      }
    },
    {
      "cell_type": "code",
      "source": [
        "# @title\n",
        "# Lumped inertias\n",
        "disk1 = ot.Disk(0, I=3.5e-3)\n",
        "disk2 = ot.Disk(1, I=3.5e-3)\n",
        "disk3 = ot.Disk(2, I=3.5e-3)\n",
        "disk4 = ot.Disk(3, I=0.15)\n",
        "disk5 = ot.Disk(4, I=0.05)\n",
        "\n",
        "# Connecting shaft elements\n",
        "shaft1 = ot.Shaft(0, 1, L=None, odl=None, k=12e+3)\n",
        "shaft2 = ot.Shaft(1, 2, L=None, odl=None, k=12e+3)\n",
        "shaft3 = ot.Shaft(2, 3, L=None, odl=None, k=14e+3)\n",
        "shaft4 = ot.Shaft(3, 4, L=None, odl=None, k=10e+3)\n",
        "\n",
        "# Create the assembly with the defined elments\n",
        "disks =[disk1,disk2,disk3,disk4,disk5]\n",
        "shafts = [shaft1,shaft2,shaft3,shaft4]\n",
        "crankshaft = ot.Assembly(shafts, disk_elements=disks)\n",
        "\n",
        "# The assembly can be visualized using the plot_assembly method\n",
        "plot_tools = ot.Plots(crankshaft)\n",
        "plot_tools.plot_assembly()\n",
        "\n",
        "# Calculate the undamped natural frequencies\n",
        "w_n, _, _ = crankshaft.modal_analysis()\n",
        "print(\"Natural frequencies:\")\n",
        "for n in w_n[::2]:\n",
        "  print(f'{n/(2*np.pi):.2f} Hz') # Calculated natural angular frequencies are in rad/s"
      ],
      "metadata": {
        "id": "YsXmykzhlNr4",
        "cellView": "form"
      },
      "execution_count": null,
      "outputs": []
    },
    {
      "cell_type": "markdown",
      "source": [
        "### 2.2. Define excitations\n",
        "\n",
        "The firing sequence is 1-2-3. The excitation model for each cylinder is typically defined by the OEM. Fourier components at 0.5, 1, 1.5, 2 .., of the running speed are used for four-stroke engines. The phase and magnitude for each harmonic is provided, along with the constant DC component.\n",
        "\n",
        "Looking at the vector form of the previously derived steady-state equation\n",
        "\n",
        "<br>\n",
        "$$x = (-M\\omega^2 + Cj\\omega A + K)^{-1}T$$\n",
        "<br>\n",
        "\n",
        "or the 5 degree of freedom system at hand\n",
        "\n",
        "<br>\n",
        "$$\\begin{bmatrix}x_1\\\\x_2\\\\x_3\\\\x_4\\\\x_5 \\end{bmatrix} = (-M\\omega^2 + Cj\\omega A + K)^{-1} \\begin{bmatrix} T_1 \\\\T_2 \\\\T_3 \\\\T_4 \\\\T_5 \\end{bmatrix}$$\n",
        "<br>\n",
        "\n",
        "So the input torque vector has 5 components, each corresponding to the respective lumped inertia in the model."
      ],
      "metadata": {
        "id": "JspG1Nu8FKl0"
      }
    },
    {
      "cell_type": "code",
      "source": [
        "# DC component (Nm)\n",
        "DC_torque = 70.8\n",
        "\n",
        "# Fourier components of the exciation at each cylinder\n",
        "# Mag (Nm), phase (rad), harmonic (-)\n",
        "excitation_data = np.array([\n",
        "  [174.1, -2.0573, 0.5],\n",
        "  [180.8, 2.2305, 1],\n",
        "  [173.5, 0.3922, 1.5],\n",
        "  [128.2, -1.2805, 2],\n",
        "  [134.5, -3.1321, 2.5],\n",
        "  [99.7, 1.4381, 3],\n",
        "  [96.2, -0.2701, 3.5],\n",
        "  [79.3, -1.972, 4],\n",
        "  [68.1, 2.5815, 4.5],\n",
        "  [57, 0.8868, 5],\n",
        "])\n",
        "\n",
        "# Collect the values to variables\n",
        "magnitudes = excitation_data[:, 0] # First column is magnitudes\n",
        "thetas = excitation_data[:, 1] # Second column is the phases\n",
        "harmonics = excitation_data[:, 2] # Third column is the harmonics\n",
        "complex_excitations = magnitudes*np.exp(1.0j*thetas) # in complex number format\n",
        "\n",
        "'''\n",
        "The excitations act on each cylinder node of the crankshaft\n",
        "A matrix is assembled where each row represents one cylinder, and each\n",
        "Column represents one excitation frequency\n",
        "A 4/3*pi (240 degree) phase difference is added between each cylinder\n",
        "'''\n",
        "phase_shift = 4/3*np.pi  # The phase difference between each cylinder stroke\n",
        "crankshaft_excitation = np.zeros([5, excitation_data.shape[0]], dtype='complex128')\n",
        "crankshaft_excitation[0] = complex_excitations\n",
        "crankshaft_excitation[1] = complex_excitations*np.exp(-1.0j*harmonics*phase_shift)\n",
        "crankshaft_excitation[2] = complex_excitations*np.exp(1.0j*harmonics*phase_shift)\n",
        "\n",
        "print(\"Dimensions of the excitation array, should be (number of nodes x number of excitation components)\")\n",
        "print(crankshaft_excitation.shape)\n"
      ],
      "metadata": {
        "id": "g7Xj5e9FFJ1n",
        "colab": {
          "base_uri": "https://localhost:8080/"
        },
        "outputId": "79d8b85b-35d0-486f-9451-381237990c1b"
      },
      "execution_count": null,
      "outputs": [
        {
          "output_type": "stream",
          "name": "stdout",
          "text": [
            "Dimensions of the excitation array, should be (number of nodes x number of excitation components)\n",
            "(5, 10)\n"
          ]
        }
      ]
    },
    {
      "cell_type": "markdown",
      "source": [
        "### 2.3. Plot the defined excitation\n",
        "\n",
        "It is always recommended to verify that the excitations have been correctly implemented by plotting them in the time-domain. In this section we focus on one rotating speed, where there are in total 10 harmonic components in the cylinder torque.\n",
        "\n",
        "When the amplitude, phase and frequency of the torque is known, the timeseries can be plotted by taking the real value of the complex torque\n",
        "\n",
        "<br>\n",
        "$$T(t) = \\Re(Be^{j(\\omega t + \\theta)}) = \\Re(Be^{j\\theta}e^{j\\omega t}) $$\n",
        "<br>\n",
        "\n",
        "The total cylinder torque is the sum of all 10 torque harmonics and the DC component, as described in previous section.\n",
        "\n",
        "Here we can also verify that the firing sequence is correctly implemented by plotting all of the 3 cylinder torques in the same figure."
      ],
      "metadata": {
        "id": "PVweSI6Ksk4a"
      }
    },
    {
      "cell_type": "code",
      "source": [
        "w = 3000*(2*np.pi)/60 # Base angular frequency, only one rotating speed is considered in this part\n",
        "t = np.linspace(0, 2*2*np.pi/w, 200) # Two revolutions of the crankshaft, 200 points\n",
        "\n",
        "fig, (ax1, ax2) = plt.subplots(1, 2, figsize=(10, 5))\n",
        "\n",
        "# Initiate a zero vector for the sum excitation time series\n",
        "sum_wave = np.zeros_like(t)\n",
        "\n",
        "# Loop over each harmonic component of the excitation\n",
        "for excitation, harmonic in zip(complex_excitations, harmonics):\n",
        "  omega = harmonic*w  # Calculate the excitation frequency based on the base frequency\n",
        "  this_wave = np.real(excitation*np.exp(1.0j * (omega*t)))  # Get the real part of the complex torque\n",
        "\n",
        "  # Cumulate the result for the sum excitation\n",
        "  sum_wave += this_wave\n",
        "\n",
        "  # Plot the individual component on background\n",
        "  ax1.plot(t, this_wave, '--', c='gray')\n",
        "\n",
        "# Add the DC component to background and to the signal\n",
        "ax1.plot(t, np.ones_like(t)*DC_torque, '--', c='gray')\n",
        "sum_wave += DC_torque\n",
        "\n",
        "# Plot the sum excitation signal\n",
        "ax1.plot(t, sum_wave, c='red')\n",
        "\n",
        "# Same as above, but loop over the 3 excitations\n",
        "for i in range(3):\n",
        "  sum_wave = np.zeros_like(t)\n",
        "  excitations_shifted = crankshaft_excitation[i]\n",
        "  # Calculate the sum signal as above\n",
        "  for excitation, harmonic in zip(excitations_shifted, harmonics):\n",
        "    omega = w*harmonic\n",
        "    this_wave = np.real(excitation*np.exp(1.0j * (omega*t)))\n",
        "    sum_wave += this_wave\n",
        "  ax2.plot(t, sum_wave+DC_torque, label=f\"Cylinder {i+1}\")\n",
        "\n",
        "ax1.set_xlabel(\"Time (t)\")\n",
        "ax1.set_ylabel(\"Torque (Nm)\")\n",
        "ax1.set_title(\"One cylinder\")\n",
        "ax2.set_title(\"All cylinders\")\n",
        "ax2.legend()\n",
        "legend = plt.gca().get_legend()\n",
        "legend.set_frame_on(False)\n",
        "plt.tight_layout()\n",
        "plt.show()"
      ],
      "metadata": {
        "id": "KlTTzLuTsjxE"
      },
      "execution_count": null,
      "outputs": []
    },
    {
      "cell_type": "markdown",
      "source": [
        "### 2.4. Calculate vibratory torque at one rotating speed\n",
        "\n",
        "The process of calculating responses starts from solving the steady-state angular displacements for each of the lumped inertias.\n",
        "The system consists of four shafts, each of them is carrying torque, which is calculated by solving the system as described in section 2.2. The response in twist angle is transferred to shaft torque $T_v$ by subtracting the consecutive responses and multiplying by the respective torsional stiffness.\n",
        "\n",
        "<br>\n",
        "$$\n",
        "T_v[i] = k[i](x[i+1]-x[i])\n",
        "$$\n",
        "<br>\n",
        "\n",
        "The static DC-component of the torque is omitted in this calculation\n"
      ],
      "metadata": {
        "id": "wuBtDwogckCk"
      }
    },
    {
      "cell_type": "code",
      "source": [
        "w = 3000*(2*np.pi)/60 # Base angular frequency (3000 RPM)\n",
        "t = np.linspace(0, 2*2*np.pi/w, 200) # Two revolutions of the crankshaft, used for plotting\n",
        "\n",
        "# Create array with the excitation angular frequencies at this rotating speed\n",
        "omegas = w*harmonics\n",
        "\n",
        "# The excitation amplitudes and phases are already in the crankshaft_excitation variable\n",
        "# We need to give the\n",
        "q_res, w_res = crankshaft.ss_response(crankshaft_excitation, omegas)\n",
        "\n",
        "# Calculate the angle difference between two consecutive nodes\n",
        "q_difference = (q_res.T[:, 1:] - q_res.T[:, :-1]).T\n",
        "\n",
        "# initiate 4 subplots for the 4 shafts\n",
        "fig, axes = plt.subplots(4, 1, figsize=(8, 8))\n",
        "\n",
        "# Shaft stiffness values are used to calculate the torque from the angle differences\n",
        "shaft_stiffness = [12e+3, 12e+3, 14e+3, 10e+3]\n",
        "\n",
        "# Loop over the 4 shafts to plot the response for each of them\n",
        "for n in range(4):\n",
        "  shaft_response = q_difference[n]\n",
        "  sum_wave = np.zeros_like(t)\n",
        "  # Loop over the harmonic components and cumulate the result\n",
        "  for i, (response_component, harmonic) in enumerate(zip(shaft_response, harmonics)):\n",
        "    # Get the waveform of each response component\n",
        "    this_wave = np.real(response_component*np.exp(1.0j*harmonic*w*t))\n",
        "\n",
        "    # Cumulate the sum wave\n",
        "    sum_wave += this_wave\n",
        "\n",
        "    # Plot the individual component in newton meters\n",
        "    axes[n].plot(t, this_wave*shaft_stiffness[n], '--', c='gray')\n",
        "\n",
        "  # Plot the sum excitation signal in newton meters\n",
        "  axes[n].plot(t, sum_wave*shaft_stiffness[n], c='red')\n",
        "\n",
        "  axes[n].set_title(f'Torque at shaft {n+1}')\n",
        "  axes[n].set_xlabel('Time (s)')\n",
        "  axes[n].set_ylabel('Torque (Nm)')\n",
        "plt.tight_layout()\n",
        "plt.show()"
      ],
      "metadata": {
        "id": "rWYh5uhjVLLs"
      },
      "execution_count": null,
      "outputs": []
    },
    {
      "cell_type": "markdown",
      "source": [
        "### 2.5. Calculate total response at all operating speeds\n",
        "\n",
        "In the above, we have calculated the torsional response at one rotating speed. Machines are rarely run at only one operating speed. For this reason, the absolute values of the individual harmonic response components can be summed up to give an approximation of the maximum vibration amplitude at a given operating speed. This maximum vibratory torque value is then plotted against the rotating speed of the machine."
      ],
      "metadata": {
        "id": "nuytlUt3NSeZ"
      }
    },
    {
      "cell_type": "code",
      "source": [
        "operating_speeds_rads = np.linspace(5, 500, 500)\n",
        "operating_speeds_rpm = operating_speeds_rads/(2*np.pi)*60\n",
        "C = crankshaft.C_modal(crankshaft.M, crankshaft.K, xi=0.02)\n",
        "q_response = []\n",
        "\n",
        "# Loop over all rotating speeds\n",
        "for w in operating_speeds_rads:\n",
        "  omegas = harmonics * w\n",
        "  q_res, _ = crankshaft.ss_response(crankshaft_excitation, omegas, C=C)\n",
        "  q_difference = (q_res.T[:, 1:] - q_res.T[:, :-1]).T\n",
        "  q_response.append(q_difference)\n",
        "\n",
        "q_response = np.array(q_response)\n",
        "\n",
        "# Total response\n",
        "sum_response = np.sum(np.abs(q_response), axis=2)\n",
        "\n",
        "q_response = np.abs(q_response)"
      ],
      "metadata": {
        "id": "OU8oJhY-VDj4"
      },
      "execution_count": null,
      "outputs": []
    },
    {
      "cell_type": "code",
      "source": [
        "fig, axes = plt.subplots(4, 1, figsize=(10, 10))\n",
        "shaft_stiffness = [12e+3, 12e+3, 14e+3, 10e+3]\n",
        "\n",
        "for i in range(4):\n",
        "  for k in range(len(complex_excitations)):\n",
        "      axes[i].plot(operating_speeds_rpm, q_response[:, i, k] * shaft_stiffness[i], '--', c='gray')\n",
        "\n",
        "for i in range(4):\n",
        "  axes[i].plot(operating_speeds_rpm, sum_response[:, i] * shaft_stiffness[i], c='red')\n",
        "  axes[i].set_title(f\"Response at shaft {i+1}\")\n",
        "  axes[i].set_xlabel(\"Rotating speed (rpm)\")\n",
        "  axes[i].set_ylabel(\"Vibratory torque (Nm)\")\n",
        "\n",
        "plt.tight_layout()\n",
        "plt.show()"
      ],
      "metadata": {
        "id": "ionSdGrDpaV8"
      },
      "execution_count": null,
      "outputs": []
    }
  ]
}